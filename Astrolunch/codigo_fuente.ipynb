{
 "metadata": {
  "name": "Untitled0"
 },
 "nbformat": 3,
 "nbformat_minor": 0,
 "worksheets": [
  {
   "cells": [
    {
     "cell_type": "code",
     "collapsed": false,
     "input": [
      "%pylab inline"
     ],
     "language": "python",
     "metadata": {},
     "outputs": [
      {
       "output_type": "stream",
       "stream": "stdout",
       "text": [
        "\n",
        "Welcome to pylab, a matplotlib-based Python environment [backend: module://IPython.zmq.pylab.backend_inline].\n",
        "For more information, type 'help(pylab)'.\n"
       ]
      }
     ],
     "prompt_number": 1
    },
    {
     "cell_type": "code",
     "collapsed": false,
     "input": [
      "obs_data = loadtxt(\"obs_data.dat\")\n",
      "R_obs = obs_data[:,0]\n",
      "v_obs = obs_data[:,1]\n",
      "Re_obs = obs_data[:,2]\n",
      "ve_obs = obs_data[:,3]\n",
      "print R_obs\n",
      "print v_obs"
     ],
     "language": "python",
     "metadata": {},
     "outputs": [
      {
       "output_type": "stream",
       "stream": "stdout",
       "text": [
        "[  22.   24.   25.   25.   27.   28.   31.   32.   36.   39.   51.   65.\n",
        "   75.   75.   79.   85.   85.   93.   95.   98.  108.  117.  140.  220.\n",
        "  230.]\n",
        "[ 163.  140.  -76. -127.  -44.   28. -238.   22.  148. -166.   61.  -88.\n",
        "  166.  -95.   74.   78. -138.   14.  -59.  -26.   54.  -42.  -34.   16.\n",
        "  177.]\n"
       ]
      }
     ],
     "prompt_number": 2
    },
    {
     "cell_type": "code",
     "collapsed": false,
     "input": [
      "def mass(R, v):\n",
      "    G = 4.31*pow(10,-6)\n",
      "    mass = ((v*R)**2)/(2*G)\n",
      "    return mass"
     ],
     "language": "python",
     "metadata": {},
     "outputs": [],
     "prompt_number": 3
    },
    {
     "cell_type": "code",
     "collapsed": false,
     "input": [
      "masa = empty((0))\n",
      "n_points = 25\n",
      "\n",
      "for i in range(n_points):\n",
      "    \n",
      "    temp = empty((0))\n",
      "    \n",
      "    temp = append(temp,mass(R_obs[i],v_obs[i]))\n",
      "    temp = append(temp,mass(R_obs[i]+Re_obs[i],v_obs[i]+ve_obs[i]))\n",
      "    temp = append(temp,mass(R_obs[i]-Re_obs[i],v_obs[i]-ve_obs[i]))\n",
      "    temp = append(temp,mass(R_obs[i]+Re_obs[i],v_obs[i]-ve_obs[i]))\n",
      "    temp = append(temp,mass(R_obs[i]-Re_obs[i],v_obs[i]+ve_obs[i]))\n",
      "    r= max(temp)\n",
      "    masa = append(masa,r)\n",
      "print masa"
     ],
     "language": "python",
     "metadata": {},
     "outputs": [
      {
       "output_type": "stream",
       "stream": "stdout",
       "text": [
        "[  1.49180928e+12   1.30969838e+12   4.18793503e+11   1.16944606e+12\n",
        "   1.63729002e+11   7.13058005e+10   6.31495174e+12   5.74960557e+10\n",
        "   3.29322320e+12   4.86225940e+12   1.12277506e+12   3.79563805e+12\n",
        "   1.79817285e+13   5.88928364e+12   3.96470023e+12   5.09940835e+12\n",
        "   1.59620534e+13   1.96659397e+11   3.64455046e+12   7.53167517e+11\n",
        "   3.94573364e+12   2.80132204e+12   3.81557135e+12   2.08615874e+12\n",
        "   2.15623018e+14]\n"
       ]
      }
     ],
     "prompt_number": 4
    },
    {
     "cell_type": "code",
     "collapsed": false,
     "input": [
      "maximo = masa[0]\n",
      "\n",
      "for i in range (1,n_points):\n",
      "    if(maximo>masa[i]):\n",
      "        maximo = maximo\n",
      "        pos = i\n",
      "    else:\n",
      "        maximo = masa[i]\n",
      "\n",
      "print maximo\n",
      "print pos"
     ],
     "language": "python",
     "metadata": {},
     "outputs": [
      {
       "output_type": "stream",
       "stream": "stdout",
       "text": [
        "2.15623017551e+14\n",
        "23\n"
       ]
      }
     ],
     "prompt_number": 5
    },
    {
     "cell_type": "code",
     "collapsed": false,
     "input": [
      "def fun(R):\n",
      "    G = 4.31*pow(10,-6)\n",
      "    a = sqrt((2*G*maximo)/(R**2))\n",
      "    return a\n",
      "\n",
      "print maximo"
     ],
     "language": "python",
     "metadata": {},
     "outputs": [
      {
       "output_type": "stream",
       "stream": "stdout",
       "text": [
        "2.15623017551e+14\n"
       ]
      }
     ],
     "prompt_number": 6
    },
    {
     "cell_type": "code",
     "collapsed": false,
     "input": [
      "x = linspace(min(R_obs), max(R_obs),100000)\n",
      "y = fun(x)\n",
      "\n",
      "scatter(R_obs,v_obs)\n",
      "plot(x,y)\n",
      "plot(x,-y)\n",
      "\n",
      "plt.xlabel('R [kPc]')\n",
      "plt.ylabel('v [km/s]')"
     ],
     "language": "python",
     "metadata": {},
     "outputs": [
      {
       "output_type": "pyout",
       "prompt_number": 7,
       "text": [
        "<matplotlib.text.Text at 0x9862d6c>"
       ]
      },
      {
       "output_type": "display_data",
       "png": "[encoded data removed]"
      }
     ],
     "prompt_number": 7
    },
    {
     "cell_type": "code",
     "collapsed": false,
     "input": [],
     "language": "python",
     "metadata": {},
     "outputs": []
    }
   ],
   "metadata": {}
  }
 ]
}